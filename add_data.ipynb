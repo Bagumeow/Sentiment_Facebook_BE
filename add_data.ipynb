{
 "cells": [
  {
   "cell_type": "code",
   "execution_count": 1,
   "metadata": {},
   "outputs": [],
   "source": [
    "import psycopg2\n",
    "import os"
   ]
  },
  {
   "cell_type": "code",
   "execution_count": 2,
   "metadata": {},
   "outputs": [],
   "source": [
    "from dotenv import load_dotenv\n",
    "load_dotenv('.env')\n",
    "\n",
    "SECRET_KEY = os.getenv(\"SECRET_KEY\")\n",
    "ALGORITHM = os.getenv(\"ALGORITHM\")\n",
    "ACCESS_TOKEN_EXPIRE_MINUTES = 30\n",
    "DB_NAME = os.getenv(\"DB_NAME\")\n",
    "DB_USER = os.getenv(\"DB_USER\")\n",
    "DB_PASS = os.getenv(\"DB_PASS\")\n",
    "DB_HOST = os.getenv(\"DB_HOST\")\n",
    "DB_PORT = os.getenv(\"DB_PORT\")"
   ]
  },
  {
   "cell_type": "code",
   "execution_count": 5,
   "metadata": {},
   "outputs": [],
   "source": [
    "def create_connection():\n",
    "    try:\n",
    "        conn = psycopg2.connect(database=DB_NAME,\n",
    "                                user=DB_USER,\n",
    "                                password=DB_PASS,\n",
    "                                host=DB_HOST,\n",
    "                                port=DB_PORT,\n",
    "                                # pgbouncer=True\n",
    "                                )\n",
    "        print(\"Database connected successfully\")\n",
    "    except:\n",
    "        print(\"Database not connected successfully\")\n",
    "    return conn\n",
    "\n",
    "def create_cursor(conn):\n",
    "    return conn.cursor()"
   ]
  },
  {
   "cell_type": "code",
   "execution_count": 6,
   "metadata": {},
   "outputs": [
    {
     "name": "stdout",
     "output_type": "stream",
     "text": [
      "Database connected successfully\n"
     ]
    }
   ],
   "source": [
    "conn = create_connection()\n",
    "cursor = create_cursor(conn)"
   ]
  },
  {
   "cell_type": "code",
   "execution_count": 7,
   "metadata": {},
   "outputs": [],
   "source": [
    "name_fb=\"Jack - J97\""
   ]
  },
  {
   "cell_type": "code",
   "execution_count": 9,
   "metadata": {},
   "outputs": [
    {
     "data": {
      "text/plain": [
       "('761a1868-487f-4ebf-9d24-6d8156253b3a',\n",
       " '6da3119b-513f-4cac-ae82-e52c9b31acb8',\n",
       " 'Jack - J97',\n",
       " 'https://www.facebook.com/jack.phuongtuan1204',\n",
       " '2,2 triệu',\n",
       " 12354,\n",
       " 4410,\n",
       " 3523.0,\n",
       " 312.0,\n",
       " 583.0,\n",
       " 15)"
      ]
     },
     "execution_count": 9,
     "metadata": {},
     "output_type": "execute_result"
    }
   ],
   "source": [
    "cursor.execute(\"ROLLBACK\")\n",
    "cursor.execute(f\"SELECT * FROM fanpage WHERE name_fb = '{name_fb}'\")\n",
    "result = cursor.fetchone()\n",
    "result"
   ]
  },
  {
   "cell_type": "code",
   "execution_count": null,
   "metadata": {},
   "outputs": [],
   "source": []
  }
 ],
 "metadata": {
  "kernelspec": {
   "display_name": "Python 3",
   "language": "python",
   "name": "python3"
  },
  "language_info": {
   "codemirror_mode": {
    "name": "ipython",
    "version": 3
   },
   "file_extension": ".py",
   "mimetype": "text/x-python",
   "name": "python",
   "nbconvert_exporter": "python",
   "pygments_lexer": "ipython3",
   "version": "3.10.11"
  }
 },
 "nbformat": 4,
 "nbformat_minor": 2
}
